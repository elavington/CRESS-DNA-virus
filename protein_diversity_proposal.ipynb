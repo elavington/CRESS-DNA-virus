{
 "cells": [
  {
   "cell_type": "markdown",
   "metadata": {},
   "source": [
    "# Diversity measures from review"
   ]
  },
  {
   "cell_type": "code",
   "execution_count": 1,
   "metadata": {},
   "outputs": [],
   "source": [
    "from Bio import SeqIO, AlignIO\n",
    "import math\n",
    "import pandas as pd\n",
    "import glob\n",
    "import numpy as np\n",
    "AAs = ['A','C','D','E','F','G','H','I','K','L','M','N','P','Q','R','S','T','V','W','Y']"
   ]
  },
  {
   "cell_type": "markdown",
   "metadata": {},
   "source": [
    "---\n",
    "## Shannon information:\n",
    "### $$-\\sum_{i=1}^{20} p_{i} log_{2}p_{i}$$ ###\n",
    "\n",
    "#### or use: $$\\sum_{i=1}^{20} p_{i} log_{2}\\left( \\frac{1}{p_{i}} \\right)$$ ####\n",
    "\n",
    "where for the $p$ fraction of the $i^{th}$ amino acid for a given site"
   ]
  },
  {
   "cell_type": "markdown",
   "metadata": {},
   "source": [
    "check on \"relative shannon entropy\"\n"
   ]
  },
  {
   "cell_type": "code",
   "execution_count": 2,
   "metadata": {},
   "outputs": [],
   "source": [
    "#take in a string of letters for a given site\n",
    "#return Shannon information for that site\n",
    "\n",
    "def shannon_info(site, AAs=AAs):\n",
    "    \n",
    "    temp_info = 0\n",
    "    \n",
    "    for aa in AAs:\n",
    "        \n",
    "        if aa in site:\n",
    "            \n",
    "            temp_info += site.count(aa)/len(site) * math.log2(site.count(aa)/len(site))\n",
    "        \n",
    "    return abs(temp_info)"
   ]
  },
  {
   "cell_type": "markdown",
   "metadata": {},
   "source": [
    "need MC methods for confidence interval"
   ]
  },
  {
   "cell_type": "markdown",
   "metadata": {},
   "source": [
    "---\n",
    "## DIVAA:\n",
    "### $$d= \\frac{1}{N\\sum_{k}p^2_{k}}$$ ###\n",
    "\n",
    "where $N = 20$ for the 20 amino acids and $p_{k}$ is the fraction of the $k^{th}$ amino acid at a given site"
   ]
  },
  {
   "cell_type": "code",
   "execution_count": 3,
   "metadata": {},
   "outputs": [],
   "source": [
    "#take in a string of letters for a given site\n",
    "#return amino acid diversity for that site\n",
    "\n",
    "#take in a dictionary of frequencies of each amino acid for a given site\n",
    "def sigma(f_k, n_seqs):\n",
    "        \n",
    "    return math.sqrt((f_k * (1 - f_k)) / n_seqs)\n",
    "\n",
    "\n",
    "def DIVAA(site, AAs=AAs):\n",
    "    \n",
    "    temp_divaa = 0\n",
    "    \n",
    "    for aa in AAs:\n",
    "        \n",
    "        if aa in site:\n",
    "            \n",
    "            temp_divaa += (site.count(aa)/len(site))**2\n",
    "                \n",
    "    return 1/(20 * temp_divaa)\n",
    "\n",
    "\n",
    "\n",
    "def DIVe(site, AAs=AAs):\n",
    "    \n",
    "    temp_divaa = 0\n",
    "    \n",
    "    for aa in AAs:\n",
    "            \n",
    "        if aa in site:\n",
    "            \n",
    "            temp_divaa += (((site.count(aa)/len(site))**2) - sigma(site.count(aa)//len(site), len(site)))\n",
    "    \n",
    "    return 1 / (20 * temp_divaa)"
   ]
  },
  {
   "cell_type": "markdown",
   "metadata": {},
   "source": [
    "## $\\sigma(f_{k})$ ##\n",
    "\n",
    "for use in estimation correction of d - <b> likely typos in the equations, double check paper </b>\n",
    "\n",
    "$$\\sigma(f_{k}) = \\sqrt{ \\frac{f_{k}(1 - f_{k})}{n_{seq}} }$$\n",
    "\n",
    "where $f_{k}$ if the observed frequency of the $k^{th}$ amino acid at a given site. This can then be used to calculate an estimate of d that corrects for underestimation of diversity by using the observed frequencies, $f_{k}$, for $p_{k}$:\n",
    "$$d_{e} = \\frac{1}{20 \\Pi_{k}(f_{k}^{2} - \\sigma(f_{k}))}$$"
   ]
  },
  {
   "cell_type": "markdown",
   "metadata": {},
   "source": [
    "___\n",
    "## $K_{aa}$\n",
    "$$K_{aa} = -ln(1-d_{aa})$$\n",
    "\n",
    "where $d_{aa}$ is the proportion of sites differing between two protein sequences."
   ]
  },
  {
   "cell_type": "code",
   "execution_count": 4,
   "metadata": {},
   "outputs": [],
   "source": [
    "def Kaa(sample1,sample2):\n",
    "    \n",
    "    #takes in two aligned amino acid sequences, each as a string\n",
    "    \n",
    "    N = len(sample1)\n",
    "    diffs = 0\n",
    "           \n",
    "    for site in range(max([len(sample1),len(sample2)])):\n",
    "           \n",
    "           if (sample1[site].lower() in AAs) & (sample2[site].lower() in AAs):\n",
    "           \n",
    "               N += 1\n",
    "               \n",
    "               if (sample1[site].lower() != sample2[site].lower()):\n",
    "           \n",
    "                    diffs +=1\n",
    "    \n",
    "    d_aa = diffs / N\n",
    "        \n",
    "    return (-log(1-daa), V_K_aa(d_aa,N)) #returns K_aa and V(K_aa) as a tuple"
   ]
  },
  {
   "cell_type": "markdown",
   "metadata": {},
   "source": [
    "## $V(K_{aa})$\n",
    "### $$V(K_{aa}) = \\frac{d_{aa}}{N(1 - d_{aa})}$$ ###\n",
    "\n",
    "where $N$ is the number of amino acids that can be compared between the two sequences (i.e. exlcuding any indels)."
   ]
  },
  {
   "cell_type": "code",
   "execution_count": 5,
   "metadata": {},
   "outputs": [],
   "source": [
    "def V_K_aa(d_aa,N, AAs=AAs):\n",
    "    \n",
    "    #takes in d_aa (proportion of differences between two aa sequences)\n",
    "    #    and N, number of comperable sites (excluding all indels)\n",
    "    \n",
    "    return d_aa / ((1 - d_aa) * N) #returns variance of K_aa"
   ]
  },
  {
   "cell_type": "markdown",
   "metadata": {},
   "source": [
    "___\n",
    "## Pairwise identity:\n",
    "### $$\\sum_{ij}x_{i}x_{j}\\pi_{ij}$$ ###\n",
    "\n",
    "where for the $x_{i}^{th} and x_{j}^{th}$ fractions of the $i$ and $j$ variants when $i\\neq j$ and $\\pi_{ij}$ is the number of differences between sequences for a given site, so\n",
    "$$\\pi_{ij} =\\begin{cases} 0 & i=j \\\\\n",
    "                             1 & i\\neq j \n",
    "               \\end{cases}$$"
   ]
  },
  {
   "cell_type": "code",
   "execution_count": 6,
   "metadata": {},
   "outputs": [],
   "source": [
    "#take in a string of letters for a given site\n",
    "#return amino acid diversity for that site\n",
    "\n",
    "def pairwise_ident(site, AAs=AAs):\n",
    "\n",
    "    ident = 0\n",
    "    \n",
    "    for i in range(len(AAs)-1):\n",
    "        \n",
    "        for j in range(i+1,len(AAs)):\n",
    "                \n",
    "            ident += (site.count(AAs[i])/len(site)) * (site.count(AAs[j])/len(site))\n",
    "       \n",
    "    return ident * 2"
   ]
  },
  {
   "cell_type": "markdown",
   "metadata": {},
   "source": [
    "---\n",
    "## Pairwise similarity:\n",
    "### $$\\sum_{ij}x_{i}x_{j}\\pi_{ij}\\delta_{ij}$$ ###\n",
    "\n",
    "where $\\delta_{ij}$ is added to the pairwise identity caculation and is the weighting for the $i \\Leftrightarrow j$ substitution. For now, focus on symmetric substitution matrix or weighting(s)."
   ]
  },
  {
   "cell_type": "code",
   "execution_count": 7,
   "metadata": {},
   "outputs": [],
   "source": [
    "#https://rutgers.zoom.us/j/92918120872?pwd=N0xCTXVlbWNLc1R0SS9IYmk1c0ZIZz09def pairwise_sim(site, subst_matrix, AAs=AAs):\n",
    "\n",
    "#take in a string of letters for a given site\n",
    "#takes in a substitution matrix as a Pandas DataFrame\n",
    "#return amino acid diversity for that site\n",
    "\n",
    "def PIaa(site,subst_matrix,AAs=AAs):\n",
    "\n",
    "    similarity = 0\n",
    "    \n",
    "    for i in range(len(AAs)-1):\n",
    "        \n",
    "        for i in range(len(AAs)-1):\n",
    "\n",
    "            for j in range(i+1,len(AAs)):   \n",
    "                \n",
    "                similarity += (site.count(AAs[i])/len(site)) * (site.count(AAs[j])/len(site)) * 1/subst_matrix.loc[AAs[i],AAs[j]]\n",
    "        \n",
    "    return similarity"
   ]
  },
  {
   "cell_type": "markdown",
   "metadata": {},
   "source": [
    "## von Neumann entropy (VNE):\n",
    "\n",
    " From Caffrey et al 2004 (https://onlinelibrary.wiley.com/doi/full/10.1110/ps.03323604)\n",
    "\n",
    "$$\n",
    "    VNE = -Tr(\\boldsymbol{\\overline{\\omega}} log_{20} \\boldsymbol{\\overline{\\omega}} )\n",
    "$$\n",
    "\n",
    "where $\\overline{\\omega}$ is a density matrix with trace = 1 <br>\n",
    "<br>\n",
    "The density matrix is the product of relative frequencies of the amino acids in each alignment position and an appropriate similarity matrix (Caffrey et al. used BLOSUM 50, we want to use LG) so: <br>\n",
    "\n",
    "$$\n",
    "    \\boldsymbol{\\overline{\\omega}} = diag(P(A), P(R), ...,P(V)) x \\bf{BLOSUM50}\n",
    "$$\n",
    "\n",
    "Now VNE can be more efficiently calculated as:\n",
    "\n",
    "$$\n",
    "    VNE = -\\sum{\\lambda_{i}} log_{20}\\lambda_{i}\n",
    "$$\n",
    "\n",
    "where $\\lambda_i$ is the eigenvalues of $\\boldsymbol{\\overline{\\omega}}$\n",
    "\n",
    "### Except that this won't work with the LG matrix: \n",
    "BLOSUM50 satisfies the triangle equality for all triplets (see below) and LG diaganol values are defined so that the row sums are zero and therefore do not satisfy the triangle inequality. WAG, LG, HIV and FLU matrices are similar to LG.\n",
    "\n",
    "BLOSUM50 is a symmetric similarity matrix with varying non-zero (positive)values along the diagonal\n",
    "\n",
    "<br>\n"
   ]
  },
  {
   "cell_type": "markdown",
   "metadata": {},
   "source": [
    "Sequence weights (Henikoff & Henikoff 1994) can be incorporated by:\n",
    "\n",
    "$$\n",
    " Freq (aa_{i}) = \\sum_{j}w_{j}/n\n",
    "$$\n",
    "\n",
    "where $w_{j}$ is the sequence weight of sequence $j$ in which amino acid $aa_{ij}$ is observed and $n$ is the number of sequences. The weights sum to $n$\n"
   ]
  },
  {
   "cell_type": "code",
   "execution_count": 13,
   "metadata": {},
   "outputs": [],
   "source": [
    "def log_20(x):\n",
    "    try:\n",
    "        return math.log(x,20)\n",
    "    except:\n",
    "        return 0\n",
    "\n",
    "vlog_20 = np.vectorize(log_20)\n"
   ]
  },
  {
   "cell_type": "code",
   "execution_count": 8,
   "metadata": {},
   "outputs": [],
   "source": [
    "def vn_entropy(column,sub_matrix,matrix_label):\n",
    "\n",
    "    column_diag = np.zeros((sub_matrix.shape[0],sub_matrix.shape[0]))\n",
    "    \n",
    "    for aa in matrix_label:\n",
    "        column_diag[matrix_label.index(aa),matrix_label.index(aa)] = column.count(aa) / len(column)\n",
    "\n",
    "    omega = column_diag * sub_matrix \n",
    "    \n",
    "    entropy = - omega * vlog_20(omega)\n",
    "    \n",
    "    return entropy.trace()\n"
   ]
  },
  {
   "cell_type": "markdown",
   "metadata": {},
   "source": [
    "---\n",
    "# Preliminary proposal Aims and preliminary data"
   ]
  },
  {
   "cell_type": "markdown",
   "metadata": {},
   "source": [
    "### Preliminary Data:"
   ]
  },
  {
   "cell_type": "markdown",
   "metadata": {},
   "source": [
    "## To do:\n",
    "\n",
    "\n",
    "<strike>Read caffrey et al 2004 and Henikoff & Henikoff 1994 <br>\n",
    "Implement Caffrey et al 2004</strike> <br>\n",
    "### Poster draft of diversity measures <br>\n"
   ]
  },
  {
   "cell_type": "code",
   "execution_count": 10,
   "metadata": {},
   "outputs": [],
   "source": [
    "data_list = glob.glob(\"./HIV-1*aln.fas\")\n",
    "\n",
    "#AlignIO.read(\"./HIV-1_rev_mafft.fas\",'fasta')\n"
   ]
  },
  {
   "cell_type": "code",
   "execution_count": 12,
   "metadata": {},
   "outputs": [],
   "source": [
    "LG_aa_order = ['A','R','N','D','C','Q','E','G','H','I','L','K','M','F','P','S','T','W','Y','V']\n",
    "B50_aa_order = ['A','R','N','D','C','Q','E','G','H','I','L','K','M','F','P','S','T','W','Y','V','B','J','Z','X','*']\n"
   ]
  },
  {
   "cell_type": "code",
   "execution_count": 83,
   "metadata": {},
   "outputs": [],
   "source": [
    "#choose substitution matrix:\n",
    "\n",
    "#original LG\n",
    "LG = pd.read_csv(\"LG.csv\",header=0, index_col=0)\n",
    "\n",
    "#LG with bottom half (exclusive of the diagnal) proportions sum to 1\n",
    "#Don't use this, only inflates values\n",
    "#substitution_matrix = pd.read_csv(\"./protein_diversity/LG-1.csv\",header=0, index_col=0)\n"
   ]
  },
  {
   "cell_type": "code",
   "execution_count": 10,
   "metadata": {},
   "outputs": [],
   "source": [
    "B50 = pd.read_table(\"BLOSUM50.tab\",header=None,index_col=None,names=B50_aa_order)\n",
    "B50.set_index(pd.Series(B50_aa_order),inplace=True)"
   ]
  },
  {
   "cell_type": "code",
   "execution_count": null,
   "metadata": {},
   "outputs": [],
   "source": [
    "max_freq = np.array([[0.05,0,0,0,0,0,0,0,0,0,0,0,0,0,0,0,0,0,0,0,0,0,0,0,0],\n",
    "                     [0,0.05,0,0,0,0,0,0,0,0,0,0,0,0,0,0,0,0,0,0,0,0,0,0,0],\n",
    "                     [0,0,0.05,0,0,0,0,0,0,0,0,0,0,0,0,0,0,0,0,0,0,0,0,0,0],\n",
    "                     [0,0,0,0.05,0,0,0,0,0,0,0,0,0,0,0,0,0,0,0,0,0,0,0,0,0],\n",
    "                     [0,0,0,0,0.05,0,0,0,0,0,0,0,0,0,0,0,0,0,0,0,0,0,0,0,0],\n",
    "                     [0,0,0,0,0,0.05,0,0,0,0,0,0,0,0,0,0,0,0,0,0,0,0,0,0,0],\n",
    "                     [0,0,0,0,0,0,0.05,0,0,0,0,0,0,0,0,0,0,0,0,0,0,0,0,0,0],\n",
    "                     [0,0,0,0,0,0,0,0.05,0,0,0,0,0,0,0,0,0,0,0,0,0,0,0,0,0],\n",
    "                     [0,0,0,0,0,0,0,0,0.05,0,0,0,0,0,0,0,0,0,0,0,0,0,0,0,0],\n",
    "                     [0,0,0,0,0,0,0,0,0,0.05,0,0,0,0,0,0,0,0,0,0,0,0,0,0,0],\n",
    "                     [0,0,0,0,0,0,0,0,0,0,0.05,0,0,0,0,0,0,0,0,0,0,0,0,0,0],\n",
    "                     [0,0,0,0,0,0,0,0,0,0,0,0.05,0,0,0,0,0,0,0,0,0,0,0,0,0],\n",
    "                     [0,0,0,0,0,0,0,0,0,0,0,0,0.05,0,0,0,0,0,0,0,0,0,0,0,0],\n",
    "                     [0,0,0,0,0,0,0,0,0,0,0,0,0,0.05,0,0,0,0,0,0,0,0,0,0,0],\n",
    "                     [0,0,0,0,0,0,0,0,0,0,0,0,0,0,0.05,0,0,0,0,0,0,0,0,0,0],\n",
    "                     [0,0,0,0,0,0,0,0,0,0,0,0,0,0,0,0.05,0,0,0,0,0,0,0,0,0],\n",
    "                     [0,0,0,0,0,0,0,0,0,0,0,0,0,0,0,0,0.05,0,0,0,0,0,0,0,0],\n",
    "                     [0,0,0,0,0,0,0,0,0,0,0,0,0,0,0,0,0,0.05,0,0,0,0,0,0,0],\n",
    "                     [0,0,0,0,0,0,0,0,0,0,0,0,0,0,0,0,0,0,0.05,0,0,0,0,0,0],\n",
    "                     [0,0,0,0,0,0,0,0,0,0,0,0,0,0,0,0,0,0,0,0.05,0,0,0,0,0],\n",
    "                     [0,0,0,0,0,0,0,0,0,0,0,0,0,0,0,0,0,0,0,0,0,0,0,0,0],\n",
    "                     [0,0,0,0,0,0,0,0,0,0,0,0,0,0,0,0,0,0,0,0,0,0,0,0,0],\n",
    "                     [0,0,0,0,0,0,0,0,0,0,0,0,0,0,0,0,0,0,0,0,0,0,0,0,0],\n",
    "                     [0,0,0,0,0,0,0,0,0,0,0,0,0,0,0,0,0,0,0,0,0,0,0,0,0],\n",
    "                     [0,0,0,0,0,0,0,0,0,0,0,0,0,0,0,0,0,0,0,0,0,0,0,0,0]])"
   ]
  },
  {
   "cell_type": "code",
   "execution_count": null,
   "metadata": {},
   "outputs": [],
   "source": [
    "#VNE value at Shannon Entropy Max: all amino acids at frequency 0.05\n",
    "omega = B50 * max_freq\n",
    "ent = -(omega * vlog_20(omega))\n",
    "ent.trace()"
   ]
  },
  {
   "cell_type": "code",
   "execution_count": null,
   "metadata": {},
   "outputs": [],
   "source": [
    "#Pairwise similarity maximum for two allele locus (C,E)\n",
    "(1/LG.loc['C','E']) * 0.5"
   ]
  },
  {
   "cell_type": "code",
   "execution_count": null,
   "metadata": {},
   "outputs": [],
   "source": [
    "#VNE maximum at two allele locus (C,W)\n",
    "max_vne = np.array([[0.090909,0],[0,0.07878788]])\n",
    "omega = max_vne * np.array([[0.5,0],[0,0.5]])\n",
    "ent = -(omega * vlog_20(omega))\n",
    "ent.trace()"
   ]
  },
  {
   "cell_type": "code",
   "execution_count": null,
   "metadata": {},
   "outputs": [],
   "source": [
    "#calculate the diversity measures\n",
    "for currentfile in data_list:\n",
    "    data = AlignIO.read(currentfile,'fasta')\n",
    "    print(\"{} measures:\".format(currentfile))    \n",
    "\n",
    "\n",
    "    num_samples = len(data)\n",
    "    ungapped_sites = 0\n",
    "\n",
    "    shannon = 0\n",
    "    Divaa = 0\n",
    "    Divaa_e = 0\n",
    "    p_ident = 0\n",
    "    p_sim = 0\n",
    "    vne = 0\n",
    "\n",
    "    \n",
    "    #get diversity meaasure(s) for ungapped sites\n",
    "    for i in range(len(data[0,:])):\n",
    "    \n",
    "    \n",
    "        column = data[:,i]\n",
    "        if '-' not in column:\n",
    "        \n",
    "            shannon += shannon_info(column)\n",
    "            Divaa += DIVAA(column)\n",
    "            Divaa_e += DIVe(column)\n",
    "            p_ident += pairwise_ident(column)\n",
    "            p_sim += PIaa(column, LG)\n",
    "            vne += vn_entropy(column,B50,B50_aa_order)\n",
    "    \n",
    "                \n",
    "    print(\"shannon: {:.4}\".format(shannon/(i+1)))\n",
    "    print(\"DIVAA: {:.4}\".format(Divaa/(i+1)))\n",
    "    print(\"Divaa_est: {:.4}\".format(Divaa_e/(i+1)))\n",
    "    print(\"Pi Identity: {:.4}\".format(p_ident/(i+1)))\n",
    "    print(\"Pi similarity: {:.4}\".format(p_sim/(i+1)))\n",
    "    print(\"VNE: {:.4}\".format(vne/(i+1)))\n",
    "    \n",
    "                \n",
    "                \n",
    "                "
   ]
  },
  {
   "cell_type": "code",
   "execution_count": null,
   "metadata": {},
   "outputs": [],
   "source": [
    "def residue_weight_freq():\n",
    "    #caculate sequence weighted frequencies as per Henikoff & Henikoff 1994\n",
    "    \n",
    "    \"\"\" for n sequences, r unique amino acids\"\"\"\n",
    "    #for each alignment position\n",
    "        \n",
    "        #for each sequence\n",
    "            #position weight = 1 / [(count of unique residues)* (count of residues found in this postion that are the same as the residue in this sequence at this position)\n",
    "            \n",
    "            #add to running total for this sequence\n",
    "            \n",
    "        \n",
    "    #weights need to be normalized\n",
    "        #to replicate Henikoff & Henikoff 1994, weights sum to 1\n",
    "        #to replicate Caffrey et al 2004, weights sum to number of sequences\n",
    "        \n",
    "    \n",
    "    return\n",
    "\n",
    "def sequence_weight_freq():\n",
    "    \n",
    "    \n",
    "    \n",
    "    \n",
    "    return\n"
   ]
  },
  {
   "cell_type": "code",
   "execution_count": null,
   "metadata": {
    "scrolled": true
   },
   "outputs": [],
   "source": [
    "print(\"shannon: {:.4}\".format(shannon))\n",
    "print(\"DIVAA: {:.4}\".format(Divaa))\n",
    "print(\"Pi Identity: {:.4}\".format(p_ident))\n",
    "print(\"Pi similarity: {:.4}\".format(p_sim))"
   ]
  },
  {
   "cell_type": "code",
   "execution_count": 1,
   "metadata": {
    "collapsed": true
   },
   "outputs": [
    {
     "name": "stdout",
     "output_type": "stream",
     "text": [
      "1\t0.05\n",
      "2\t0.1\n",
      "3\t0.15\n",
      "4\t0.2\n",
      "5\t0.24999999999999994\n",
      "6\t0.3\n",
      "7\t0.35000000000000003\n",
      "8\t0.4\n",
      "9\t0.44999999999999996\n",
      "10\t0.4999999999999999\n",
      "11\t0.5499999999999999\n",
      "12\t0.6\n",
      "13\t0.6499999999999999\n",
      "14\t0.7000000000000001\n",
      "15\t0.7499999999999999\n",
      "16\t0.8\n",
      "17\t0.85\n",
      "18\t0.8999999999999999\n",
      "19\t0.9500000000000001\n",
      "20\t0.9999999999999998\n"
     ]
    }
   ],
   "source": [
    "for i in range(1,21):\n",
    "    print(\"{}\\t{}\".format(i,1 / (20 * ((1/i)**2)*i)))\n",
    "    "
   ]
  },
  {
   "cell_type": "code",
   "execution_count": null,
   "metadata": {},
   "outputs": [],
   "source": [
    "for i in range(1,21):\n",
    "    temp = []\n",
    "    for j in range(i):\n",
    "        temp += [LG_aa_order[j]] * i\n",
    "    print(pairwise_ident(temp))\n",
    "    "
   ]
  },
  {
   "cell_type": "code",
   "execution_count": 21,
   "metadata": {},
   "outputs": [],
   "source": [
    "#normed B50 array for VNE calculation:\n",
    "#    adjust diaganol to sum to 1\n",
    "#    ignore off-diagonal as it's not used\n",
    "B50_trace = np.array(B50).trace()\n",
    "for aa in B50_aa_order:\n",
    "    B50.loc[aa,aa] = B50.loc[aa,aa]/B50_trace\n"
   ]
  },
  {
   "cell_type": "code",
   "execution_count": 49,
   "metadata": {},
   "outputs": [],
   "source": [
    "import itertools"
   ]
  },
  {
   "cell_type": "code",
   "execution_count": 59,
   "metadata": {
    "collapsed": true
   },
   "outputs": [
    {
     "name": "stdout",
     "output_type": "stream",
     "text": [
      "1 0.9206291797528904\n",
      "2 0.5654865049490629\n",
      "3 0.41800542093038295\n"
     ]
    },
    {
     "ename": "KeyboardInterrupt",
     "evalue": "",
     "output_type": "error",
     "traceback": [
      "\u001b[0;31m---------------------------------------------------------------------------\u001b[0m",
      "\u001b[0;31mKeyboardInterrupt\u001b[0m                         Traceback (most recent call last)",
      "\u001b[0;32m<ipython-input-59-ac79ce2b04a2>\u001b[0m in \u001b[0;36m<module>\u001b[0;34m\u001b[0m\n\u001b[1;32m     16\u001b[0m         \u001b[0;32mfor\u001b[0m \u001b[0malleles\u001b[0m \u001b[0;32min\u001b[0m \u001b[0mpermutations\u001b[0m\u001b[0;34m:\u001b[0m\u001b[0;34m\u001b[0m\u001b[0;34m\u001b[0m\u001b[0m\n\u001b[1;32m     17\u001b[0m             \u001b[0;32mfor\u001b[0m \u001b[0mallele\u001b[0m \u001b[0;32min\u001b[0m \u001b[0malleles\u001b[0m\u001b[0;34m:\u001b[0m\u001b[0;34m\u001b[0m\u001b[0;34m\u001b[0m\u001b[0m\n\u001b[0;32m---> 18\u001b[0;31m                 \u001b[0mmax_freqs\u001b[0m\u001b[0;34m.\u001b[0m\u001b[0mloc\u001b[0m\u001b[0;34m[\u001b[0m\u001b[0mallele\u001b[0m\u001b[0;34m,\u001b[0m\u001b[0mallele\u001b[0m\u001b[0;34m]\u001b[0m \u001b[0;34m=\u001b[0m \u001b[0mfreq\u001b[0m\u001b[0;34m\u001b[0m\u001b[0;34m\u001b[0m\u001b[0m\n\u001b[0m\u001b[1;32m     19\u001b[0m \u001b[0;34m\u001b[0m\u001b[0m\n\u001b[1;32m     20\u001b[0m         \u001b[0momega\u001b[0m \u001b[0;34m=\u001b[0m \u001b[0mnp\u001b[0m\u001b[0;34m.\u001b[0m\u001b[0marray\u001b[0m\u001b[0;34m(\u001b[0m\u001b[0mmax_freqs\u001b[0m\u001b[0;34m)\u001b[0m\u001b[0;34m*\u001b[0m\u001b[0mnp\u001b[0m\u001b[0;34m.\u001b[0m\u001b[0marray\u001b[0m\u001b[0;34m(\u001b[0m\u001b[0mB50\u001b[0m\u001b[0;34m)\u001b[0m\u001b[0;34m\u001b[0m\u001b[0;34m\u001b[0m\u001b[0m\n",
      "\u001b[0;32m/usr/local/lib/python3.8/dist-packages/pandas/core/indexing.py\u001b[0m in \u001b[0;36m__setitem__\u001b[0;34m(self, key, value)\u001b[0m\n\u001b[1;32m    668\u001b[0m \u001b[0;34m\u001b[0m\u001b[0m\n\u001b[1;32m    669\u001b[0m         \u001b[0miloc\u001b[0m \u001b[0;34m=\u001b[0m \u001b[0mself\u001b[0m \u001b[0;32mif\u001b[0m \u001b[0mself\u001b[0m\u001b[0;34m.\u001b[0m\u001b[0mname\u001b[0m \u001b[0;34m==\u001b[0m \u001b[0;34m\"iloc\"\u001b[0m \u001b[0;32melse\u001b[0m \u001b[0mself\u001b[0m\u001b[0;34m.\u001b[0m\u001b[0mobj\u001b[0m\u001b[0;34m.\u001b[0m\u001b[0miloc\u001b[0m\u001b[0;34m\u001b[0m\u001b[0;34m\u001b[0m\u001b[0m\n\u001b[0;32m--> 670\u001b[0;31m         \u001b[0miloc\u001b[0m\u001b[0;34m.\u001b[0m\u001b[0m_setitem_with_indexer\u001b[0m\u001b[0;34m(\u001b[0m\u001b[0mindexer\u001b[0m\u001b[0;34m,\u001b[0m \u001b[0mvalue\u001b[0m\u001b[0;34m)\u001b[0m\u001b[0;34m\u001b[0m\u001b[0;34m\u001b[0m\u001b[0m\n\u001b[0m\u001b[1;32m    671\u001b[0m \u001b[0;34m\u001b[0m\u001b[0m\n\u001b[1;32m    672\u001b[0m     \u001b[0;32mdef\u001b[0m \u001b[0m_validate_key\u001b[0m\u001b[0;34m(\u001b[0m\u001b[0mself\u001b[0m\u001b[0;34m,\u001b[0m \u001b[0mkey\u001b[0m\u001b[0;34m,\u001b[0m \u001b[0maxis\u001b[0m\u001b[0;34m:\u001b[0m \u001b[0mint\u001b[0m\u001b[0;34m)\u001b[0m\u001b[0;34m:\u001b[0m\u001b[0;34m\u001b[0m\u001b[0;34m\u001b[0m\u001b[0m\n",
      "\u001b[0;32m/usr/local/lib/python3.8/dist-packages/pandas/core/indexing.py\u001b[0m in \u001b[0;36m_setitem_with_indexer\u001b[0;34m(self, indexer, value)\u001b[0m\n\u001b[1;32m   1761\u001b[0m                 \u001b[0;31m# scalar value\u001b[0m\u001b[0;34m\u001b[0m\u001b[0;34m\u001b[0m\u001b[0;34m\u001b[0m\u001b[0m\n\u001b[1;32m   1762\u001b[0m                 \u001b[0;32mfor\u001b[0m \u001b[0mloc\u001b[0m \u001b[0;32min\u001b[0m \u001b[0milocs\u001b[0m\u001b[0;34m:\u001b[0m\u001b[0;34m\u001b[0m\u001b[0;34m\u001b[0m\u001b[0m\n\u001b[0;32m-> 1763\u001b[0;31m                     \u001b[0misetter\u001b[0m\u001b[0;34m(\u001b[0m\u001b[0mloc\u001b[0m\u001b[0;34m,\u001b[0m \u001b[0mvalue\u001b[0m\u001b[0;34m)\u001b[0m\u001b[0;34m\u001b[0m\u001b[0;34m\u001b[0m\u001b[0m\n\u001b[0m\u001b[1;32m   1764\u001b[0m \u001b[0;34m\u001b[0m\u001b[0m\n\u001b[1;32m   1765\u001b[0m         \u001b[0;32melse\u001b[0m\u001b[0;34m:\u001b[0m\u001b[0;34m\u001b[0m\u001b[0;34m\u001b[0m\u001b[0m\n",
      "\u001b[0;32m/usr/local/lib/python3.8/dist-packages/pandas/core/indexing.py\u001b[0m in \u001b[0;36misetter\u001b[0;34m(loc, v)\u001b[0m\n\u001b[1;32m   1686\u001b[0m                 \u001b[0;32melse\u001b[0m\u001b[0;34m:\u001b[0m\u001b[0;34m\u001b[0m\u001b[0;34m\u001b[0m\u001b[0m\n\u001b[1;32m   1687\u001b[0m                     \u001b[0;31m# set the item, possibly having a dtype change\u001b[0m\u001b[0;34m\u001b[0m\u001b[0;34m\u001b[0m\u001b[0;34m\u001b[0m\u001b[0m\n\u001b[0;32m-> 1688\u001b[0;31m                     \u001b[0mser\u001b[0m \u001b[0;34m=\u001b[0m \u001b[0mser\u001b[0m\u001b[0;34m.\u001b[0m\u001b[0mcopy\u001b[0m\u001b[0;34m(\u001b[0m\u001b[0;34m)\u001b[0m\u001b[0;34m\u001b[0m\u001b[0;34m\u001b[0m\u001b[0m\n\u001b[0m\u001b[1;32m   1689\u001b[0m                     \u001b[0mser\u001b[0m\u001b[0;34m.\u001b[0m\u001b[0m_mgr\u001b[0m \u001b[0;34m=\u001b[0m \u001b[0mser\u001b[0m\u001b[0;34m.\u001b[0m\u001b[0m_mgr\u001b[0m\u001b[0;34m.\u001b[0m\u001b[0msetitem\u001b[0m\u001b[0;34m(\u001b[0m\u001b[0mindexer\u001b[0m\u001b[0;34m=\u001b[0m\u001b[0mplane_indexer\u001b[0m\u001b[0;34m,\u001b[0m \u001b[0mvalue\u001b[0m\u001b[0;34m=\u001b[0m\u001b[0mv\u001b[0m\u001b[0;34m)\u001b[0m\u001b[0;34m\u001b[0m\u001b[0;34m\u001b[0m\u001b[0m\n\u001b[1;32m   1690\u001b[0m                     \u001b[0mser\u001b[0m\u001b[0;34m.\u001b[0m\u001b[0m_maybe_update_cacher\u001b[0m\u001b[0;34m(\u001b[0m\u001b[0mclear\u001b[0m\u001b[0;34m=\u001b[0m\u001b[0;32mTrue\u001b[0m\u001b[0;34m)\u001b[0m\u001b[0;34m\u001b[0m\u001b[0;34m\u001b[0m\u001b[0m\n",
      "\u001b[0;32m/usr/local/lib/python3.8/dist-packages/pandas/core/generic.py\u001b[0m in \u001b[0;36mcopy\u001b[0;34m(self, deep)\u001b[0m\n\u001b[1;32m   5663\u001b[0m         \u001b[0mdata\u001b[0m \u001b[0;34m=\u001b[0m \u001b[0mself\u001b[0m\u001b[0;34m.\u001b[0m\u001b[0m_mgr\u001b[0m\u001b[0;34m.\u001b[0m\u001b[0mcopy\u001b[0m\u001b[0;34m(\u001b[0m\u001b[0mdeep\u001b[0m\u001b[0;34m=\u001b[0m\u001b[0mdeep\u001b[0m\u001b[0;34m)\u001b[0m\u001b[0;34m\u001b[0m\u001b[0;34m\u001b[0m\u001b[0m\n\u001b[1;32m   5664\u001b[0m         \u001b[0mself\u001b[0m\u001b[0;34m.\u001b[0m\u001b[0m_clear_item_cache\u001b[0m\u001b[0;34m(\u001b[0m\u001b[0;34m)\u001b[0m\u001b[0;34m\u001b[0m\u001b[0;34m\u001b[0m\u001b[0m\n\u001b[0;32m-> 5665\u001b[0;31m         \u001b[0;32mreturn\u001b[0m \u001b[0mself\u001b[0m\u001b[0;34m.\u001b[0m\u001b[0m_constructor\u001b[0m\u001b[0;34m(\u001b[0m\u001b[0mdata\u001b[0m\u001b[0;34m)\u001b[0m\u001b[0;34m.\u001b[0m\u001b[0m__finalize__\u001b[0m\u001b[0;34m(\u001b[0m\u001b[0mself\u001b[0m\u001b[0;34m,\u001b[0m \u001b[0mmethod\u001b[0m\u001b[0;34m=\u001b[0m\u001b[0;34m\"copy\"\u001b[0m\u001b[0;34m)\u001b[0m\u001b[0;34m\u001b[0m\u001b[0;34m\u001b[0m\u001b[0m\n\u001b[0m\u001b[1;32m   5666\u001b[0m \u001b[0;34m\u001b[0m\u001b[0m\n\u001b[1;32m   5667\u001b[0m     \u001b[0;32mdef\u001b[0m \u001b[0m__copy__\u001b[0m\u001b[0;34m(\u001b[0m\u001b[0mself\u001b[0m\u001b[0;34m:\u001b[0m \u001b[0mFrameOrSeries\u001b[0m\u001b[0;34m,\u001b[0m \u001b[0mdeep\u001b[0m\u001b[0;34m:\u001b[0m \u001b[0mbool_t\u001b[0m \u001b[0;34m=\u001b[0m \u001b[0;32mTrue\u001b[0m\u001b[0;34m)\u001b[0m \u001b[0;34m->\u001b[0m \u001b[0mFrameOrSeries\u001b[0m\u001b[0;34m:\u001b[0m\u001b[0;34m\u001b[0m\u001b[0;34m\u001b[0m\u001b[0m\n",
      "\u001b[0;32m/usr/local/lib/python3.8/dist-packages/pandas/core/series.py\u001b[0m in \u001b[0;36m__init__\u001b[0;34m(self, data, index, dtype, name, copy, fastpath)\u001b[0m\n\u001b[1;32m    210\u001b[0m         ):\n\u001b[1;32m    211\u001b[0m             \u001b[0;31m# GH#33357 called with just the SingleBlockManager\u001b[0m\u001b[0;34m\u001b[0m\u001b[0;34m\u001b[0m\u001b[0;34m\u001b[0m\u001b[0m\n\u001b[0;32m--> 212\u001b[0;31m             \u001b[0mNDFrame\u001b[0m\u001b[0;34m.\u001b[0m\u001b[0m__init__\u001b[0m\u001b[0;34m(\u001b[0m\u001b[0mself\u001b[0m\u001b[0;34m,\u001b[0m \u001b[0mdata\u001b[0m\u001b[0;34m)\u001b[0m\u001b[0;34m\u001b[0m\u001b[0;34m\u001b[0m\u001b[0m\n\u001b[0m\u001b[1;32m    213\u001b[0m             \u001b[0mself\u001b[0m\u001b[0;34m.\u001b[0m\u001b[0mname\u001b[0m \u001b[0;34m=\u001b[0m \u001b[0mname\u001b[0m\u001b[0;34m\u001b[0m\u001b[0;34m\u001b[0m\u001b[0m\n\u001b[1;32m    214\u001b[0m             \u001b[0;32mreturn\u001b[0m\u001b[0;34m\u001b[0m\u001b[0;34m\u001b[0m\u001b[0m\n",
      "\u001b[0;31mKeyboardInterrupt\u001b[0m: "
     ]
    }
   ],
   "source": [
    "#VNE theoretical max\n",
    "B50_fast_first = ['W','C','H','P','D','G','F','Y','R','N','Q','M','E','K','A','I','L','S','T','B','J','Z','X','*']\n",
    "\n",
    "for i in range(1,21):\n",
    "    permutations = list(itertools.combinations(LG_aa_order,i))\n",
    "    try:\n",
    "        freq = 1/i\n",
    "    \n",
    "    VNEs = []\n",
    "    \n",
    "    for permutation in permutations:\n",
    "        max_freqs = pd.DataFrame(0,index=B50.index,columns=B50.columns)\n",
    "    \n",
    "        for alleles in permutations:\n",
    "            for allele in alleles:\n",
    "                max_freqs.loc[allele,allele] = freq\n",
    "    \n",
    "        omega = np.array(max_freqs)*np.array(B50)\n",
    "        VNEs.append(-(omega * vlog_20(omega)).trace())\n",
    "\n",
    "    print(i,max(VNEs))"
   ]
  },
  {
   "cell_type": "code",
   "execution_count": 81,
   "metadata": {
    "scrolled": true
   },
   "outputs": [
    {
     "name": "stdout",
     "output_type": "stream",
     "text": [
      "Done with 1\n",
      "Done with 2\n",
      "Done with 3\n",
      "Done with 4\n",
      "Done with 5\n",
      "Done with 6\n",
      "Done with 7\n",
      "Done with 8\n",
      "Done with 9\n",
      "Done with 10\n",
      "Done with 11\n",
      "Done with 12\n",
      "Done with 13\n",
      "Done with 14\n",
      "Done with 15\n",
      "Done with 16\n",
      "Done with 17\n",
      "Done with 18\n",
      "Done with 19\n",
      "Done with 20\n"
     ]
    }
   ],
   "source": [
    "\n",
    "for i in range(1,21):\n",
    "    permutations = list(itertools.combinations(LG_aa_order,i))\n",
    "    \n",
    "    freq = 1/i\n",
    "    \n",
    "    VNEs = {}\n",
    "    \n",
    "    for permutation in permutations:\n",
    "        max_freqs = pd.DataFrame(0,index=B50.index,columns=B50.columns)\n",
    "    \n",
    "        for alleles in permutation:\n",
    "            for allele in alleles:\n",
    "                max_freqs.loc[allele,allele] = freq\n",
    "\n",
    "        omega = np.array(max_freqs)*np.array(B50)\n",
    "        VNEs[(-(omega * vlog_20(omega)).trace())] = permutation\n",
    "\n",
    "    with open(\"VNE.txt\", 'a') as f:\n",
    "        f.write(str(i)+\"\\t\"+str(max(VNEs))+\"\\t\"+str(VNEs[max(VNEs)])+\"\\n\")\n",
    "    print(\"Done with {}\".format(i))"
   ]
  },
  {
   "cell_type": "code",
   "execution_count": 79,
   "metadata": {},
   "outputs": [
    {
     "name": "stdout",
     "output_type": "stream",
     "text": [
      "1 20\n",
      "2 190\n",
      "3 1140\n",
      "4 4845\n",
      "5 15504\n",
      "6 38760\n",
      "7 77520\n",
      "8 125970\n",
      "9 167960\n",
      "10 184756\n",
      "11 167960\n",
      "12 125970\n",
      "13 77520\n",
      "14 38760\n",
      "15 15504\n",
      "16 4845\n",
      "17 1140\n",
      "18 190\n",
      "19 20\n",
      "20 1\n"
     ]
    }
   ],
   "source": [
    "for i in range(1,21):\n",
    "    permutations = list(itertools.combinations(LG_aa_order,i))\n",
    "    print(i, len(permutations))"
   ]
  },
  {
   "cell_type": "code",
   "execution_count": null,
   "metadata": {},
   "outputs": [],
   "source": [
    "for i in range(1,21):\n",
    "    print(\"{}\\t{}\".format(i,(-((1/i))*log_20(1/i))*i))\n",
    "    "
   ]
  },
  {
   "cell_type": "markdown",
   "metadata": {},
   "source": [
    "## Aim 1: Develop an evolvability measure based on amino acid diversity that can be used in comparisons between species.\n",
    "##  Aim 2: Test against Shannon Information and DIVAA amino acid diversity measures using influenza A (-ssRNA), HIV(retrovirus), and rotavirus(dsRNA) protein (8-10 proteins ea.) alignments.\n"
   ]
  },
  {
   "cell_type": "markdown",
   "metadata": {},
   "source": [
    "#### Aim 1\n",
    "\n",
    "Background and Utility of Shannon Information and DIVAA measures.<br>\n",
    "1.Useful scope of amino acid information in relation to nucleotide data\n",
    "2.Useful scope of SI and DIVAA\n",
    "3.Limitations of SI and DIVAA\n",
    "\n",
    "#### Aim 2\n",
    "Background and Utility of Amino Acid Substitution Matrices.<br>\n",
    "1.Useful scope of AA substitution matrices in relation to nuc mutation rate models\n",
    "2. "
   ]
  },
  {
   "cell_type": "markdown",
   "metadata": {},
   "source": [
    "TODO: preliminary data-run SI and DIVAA (and Kaa?) on 1 or 2 viral proteins\n",
    "goto dryad and zenoto to find viral protein alignments"
   ]
  },
  {
   "cell_type": "markdown",
   "metadata": {},
   "source": [
    "Flu matrix, HIV matrix"
   ]
  },
  {
   "cell_type": "markdown",
   "metadata": {},
   "source": [
    "Specific Aim 1: Develop evolvability metric based on amino acid diversity that can be used in comparisons between species\n",
    "a. A base model of pairwise similarity excluding any specific model of protein evolution\n",
    "b. Incorporating the LG model of protein evolution\n",
    "\n",
    "Specific Aim 2: Test novel metric against existing measures using a set of viral protein alignments (Influenza A, HIV, rotavirus)."
   ]
  },
  {
   "cell_type": "markdown",
   "metadata": {},
   "source": [
    "### Check Triangle Inequality for LG matrix ###"
   ]
  },
  {
   "cell_type": "code",
   "execution_count": 144,
   "metadata": {},
   "outputs": [],
   "source": [
    "#load modified LG matrix to satisfy Baussand & Carbone 2008 assumptions, methods\n",
    "LG_full = pd.read_csv(\"LG_full.csv\",header=0, index_col=0)"
   ]
  },
  {
   "cell_type": "code",
   "execution_count": 18,
   "metadata": {},
   "outputs": [],
   "source": [
    "ap =  ['A','C','D','E','F','G','H','I','K','L','M','N','Q','R','S','T','V','W','Y']\n",
    "hy = ['A','C','D','E','G','H','K','N','P','Q','R','S','T']"
   ]
  },
  {
   "cell_type": "code",
   "execution_count": 157,
   "metadata": {},
   "outputs": [],
   "source": [
    "def check_triangle(aa_set,matrix):\n",
    "    \n",
    "    def distance(i,j,df):\n",
    "        return abs(df.loc[i,i] - df.loc[i,j])\n",
    "    \n",
    "    count = 0\n",
    "    fail = 0\n",
    "    for x in aa_set:\n",
    "        for y in aa_set:\n",
    "            for z in aa_set:\n",
    "                if (x != z) & (y != z):\n",
    "                    count += 1\n",
    "                    if distance(x,y,matrix) > (distance(x,z,matrix) + distance(z,y,matrix)):\n",
    "                        if (distance(x,y,matrix) - (distance(x,z,matrix) + distance(z,y,matrix))) > 1:\n",
    "                            print(\"triplet {}, {}, {} fails at {}!\".format(x,y,z, (distance(x,y,matrix) - (distance(x,z,matrix) + distance(z,y,matrix)))))\n",
    "                            \n",
    "                            fail += 1\n",
    "                    \n",
    "    print(\"{} of {} triplets failed!\".format(fail,count))\n",
    "    return\n",
    "    \"\"\"\n",
    "    count = 0\n",
    "    fail = 0\n",
    "    for x in aa_set:\n",
    "        for y in aa_set:\n",
    "            for z in aa_set:\n",
    "                if (x != z) & (y != z):\n",
    "                    count += 1\n",
    "                    if abs(matrix.loc[x,y]) > abs(matrix.loc[x,z]) + abs(matrix.loc[z,y]):\n",
    "                        if (matrix.loc[x,y] - (matrix.loc[x,z] + matrix.loc[z,y])) > 1:\n",
    "                            #print(\"triplet {}, {}, {} fails at {}!\".format(x,y,z, matrix.loc[x,y] - (matrix.loc[x,z] + matrix.loc[z,y])))\n",
    "                            fail += 1\n",
    "                    \n",
    "    print(\"{} of {} triplets failed!\".format(fail,count))\n",
    "    return\"\"\"                "
   ]
  },
  {
   "cell_type": "code",
   "execution_count": 158,
   "metadata": {
    "collapsed": true
   },
   "outputs": [
    {
     "name": "stdout",
     "output_type": "stream",
     "text": [
      "triplet A, I, V fails at 2.3980400000000004!\n",
      "triplet A, N, G fails at 1.1608270000000003!\n",
      "triplet A, N, S fails at 1.9864430000000004!\n",
      "triplet A, T, S fails at 2.5876810000000003!\n",
      "triplet C, I, V fails at 1.638664!\n",
      "triplet C, T, S fails at 1.6409980000000002!\n",
      "triplet D, H, N fails at 3.5821240000000003!\n",
      "triplet D, K, E fails at 1.5242180000000003!\n",
      "triplet D, K, N fails at 1.8621189999999999!\n",
      "triplet D, Q, E fails at 3.6052049999999998!\n",
      "triplet D, Q, N fails at 1.1723659999999998!\n",
      "triplet D, S, N fails at 2.768083!\n",
      "triplet D, T, N fails at 1.5748189999999997!\n",
      "triplet E, H, Q fails at 3.7047100000000004!\n",
      "triplet E, N, D fails at 4.534437!\n",
      "triplet E, R, K fails at 1.4432070000000001!\n",
      "triplet E, R, Q fails at 1.7590240000000001!\n",
      "triplet F, H, Y fails at 4.624694999999999!\n",
      "triplet G, T, S fails at 1.610154!\n",
      "triplet H, D, N fails at 3.5821239999999994!\n",
      "triplet H, E, Q fails at 3.7047100000000004!\n",
      "triplet H, F, Y fails at 4.624694999999999!\n",
      "triplet H, K, Q fails at 2.53703!\n",
      "triplet H, K, R fails at 1.7293370000000001!\n",
      "triplet H, M, Q fails at 1.2300969999999998!\n",
      "triplet H, S, N fails at 2.451435!\n",
      "triplet I, A, V fails at 2.39804!\n",
      "triplet I, C, V fails at 1.6386640000000003!\n",
      "triplet I, T, V fails at 1.154418999999999!\n",
      "triplet K, D, E fails at 1.5242180000000003!\n",
      "triplet K, D, N fails at 1.8621189999999999!\n",
      "triplet K, H, Q fails at 2.53703!\n",
      "triplet K, H, R fails at 1.7293370000000001!\n",
      "triplet L, Q, M fails at 1.0901120000000004!\n",
      "triplet L, T, M fails at 1.7174300000000002!\n",
      "triplet L, V, I fails at 2.442322!\n",
      "triplet L, Y, F fails at 2.2930439999999996!\n",
      "triplet M, H, Q fails at 1.2300969999999998!\n",
      "triplet M, S, T fails at 1.673406!\n",
      "triplet M, V, I fails at 2.3748890000000005!\n",
      "triplet M, Y, F fails at 1.3175470000000002!\n",
      "triplet N, A, G fails at 1.1608270000000003!\n",
      "triplet N, A, S fails at 1.9864430000000004!\n",
      "triplet N, E, D fails at 4.5344370000000005!\n",
      "triplet N, Q, H fails at 2.3201570000000005!\n",
      "triplet N, R, K fails at 1.3932000000000002!\n",
      "triplet N, T, S fails at 2.0076790000000004!\n",
      "triplet N, Y, H fails at 3.897213!\n",
      "triplet Q, D, E fails at 3.6052049999999998!\n",
      "triplet Q, D, N fails at 1.1723659999999998!\n",
      "triplet Q, L, M fails at 1.0901120000000004!\n",
      "triplet Q, N, H fails at 2.3201570000000005!\n",
      "triplet Q, Y, H fails at 4.556169000000001!\n",
      "triplet R, E, K fails at 1.4432070000000001!\n",
      "triplet R, E, Q fails at 1.7590240000000001!\n",
      "triplet R, N, K fails at 1.3932000000000002!\n",
      "triplet R, Y, H fails at 2.1121609999999995!\n",
      "triplet S, D, N fails at 2.768083!\n",
      "triplet S, H, N fails at 2.451435!\n",
      "triplet S, M, T fails at 1.673406!\n",
      "triplet S, V, A fails at 2.449501!\n",
      "triplet S, V, C fails at 1.8609220000000004!\n",
      "triplet S, V, T fails at 2.0897889999999997!\n",
      "triplet T, A, S fails at 2.587681000000001!\n",
      "triplet T, C, S fails at 1.6409979999999997!\n",
      "triplet T, D, N fails at 1.5748189999999997!\n",
      "triplet T, G, S fails at 1.6101540000000005!\n",
      "triplet T, I, V fails at 1.1544189999999999!\n",
      "triplet T, L, M fails at 1.7174300000000002!\n",
      "triplet T, N, S fails at 2.0076790000000004!\n",
      "triplet V, L, I fails at 2.442322!\n",
      "triplet V, M, I fails at 2.3748889999999996!\n",
      "triplet V, S, A fails at 2.4495009999999997!\n",
      "triplet V, S, C fails at 1.8609220000000004!\n",
      "triplet V, S, T fails at 2.0897889999999997!\n",
      "triplet Y, L, F fails at 2.293043999999999!\n",
      "triplet Y, M, F fails at 1.3175469999999994!\n",
      "triplet Y, N, H fails at 3.897213!\n",
      "triplet Y, Q, H fails at 4.556169!\n",
      "triplet Y, R, H fails at 2.1121609999999995!\n",
      "80 of 7220 triplets failed!\n"
     ]
    }
   ],
   "source": [
    "check_triangle(AAs,LG_full)"
   ]
  },
  {
   "cell_type": "code",
   "execution_count": 159,
   "metadata": {
    "collapsed": true
   },
   "outputs": [
    {
     "name": "stdout",
     "output_type": "stream",
     "text": [
      "triplet A, I, V fails at 2.3980400000000004!\n",
      "triplet A, N, G fails at 1.1608270000000003!\n",
      "triplet A, N, S fails at 1.9864430000000004!\n",
      "triplet A, T, S fails at 2.5876810000000003!\n",
      "triplet C, I, V fails at 1.638664!\n",
      "triplet C, T, S fails at 1.6409980000000002!\n",
      "triplet D, H, N fails at 3.5821240000000003!\n",
      "triplet D, K, E fails at 1.5242180000000003!\n",
      "triplet D, K, N fails at 1.8621189999999999!\n",
      "triplet D, Q, E fails at 3.6052049999999998!\n",
      "triplet D, Q, N fails at 1.1723659999999998!\n",
      "triplet D, S, N fails at 2.768083!\n",
      "triplet D, T, N fails at 1.5748189999999997!\n",
      "triplet E, H, Q fails at 3.7047100000000004!\n",
      "triplet E, N, D fails at 4.534437!\n",
      "triplet E, R, K fails at 1.4432070000000001!\n",
      "triplet E, R, Q fails at 1.7590240000000001!\n",
      "triplet F, H, Y fails at 4.624694999999999!\n",
      "triplet G, T, S fails at 1.610154!\n",
      "triplet H, D, N fails at 3.5821239999999994!\n",
      "triplet H, E, Q fails at 3.7047100000000004!\n",
      "triplet H, F, Y fails at 4.624694999999999!\n",
      "triplet H, K, Q fails at 2.53703!\n",
      "triplet H, K, R fails at 1.7293370000000001!\n",
      "triplet H, M, Q fails at 1.2300969999999998!\n",
      "triplet H, S, N fails at 2.451435!\n",
      "triplet I, A, V fails at 2.39804!\n",
      "triplet I, C, V fails at 1.6386640000000003!\n",
      "triplet I, T, V fails at 1.154418999999999!\n",
      "triplet K, D, E fails at 1.5242180000000003!\n",
      "triplet K, D, N fails at 1.8621189999999999!\n",
      "triplet K, H, Q fails at 2.53703!\n",
      "triplet K, H, R fails at 1.7293370000000001!\n",
      "triplet L, Q, M fails at 1.0901120000000004!\n",
      "triplet L, T, M fails at 1.7174300000000002!\n",
      "triplet L, V, I fails at 2.442322!\n",
      "triplet L, Y, F fails at 2.2930439999999996!\n",
      "triplet M, H, Q fails at 1.2300969999999998!\n",
      "triplet M, S, T fails at 1.673406!\n",
      "triplet M, V, I fails at 2.3748890000000005!\n",
      "triplet M, Y, F fails at 1.3175470000000002!\n",
      "triplet N, A, G fails at 1.1608270000000003!\n",
      "triplet N, A, S fails at 1.9864430000000004!\n",
      "triplet N, E, D fails at 4.5344370000000005!\n",
      "triplet N, Q, H fails at 2.3201570000000005!\n",
      "triplet N, R, K fails at 1.3932000000000002!\n",
      "triplet N, T, S fails at 2.0076790000000004!\n",
      "triplet N, Y, H fails at 3.897213!\n",
      "triplet Q, D, E fails at 3.6052049999999998!\n",
      "triplet Q, D, N fails at 1.1723659999999998!\n",
      "triplet Q, L, M fails at 1.0901120000000004!\n",
      "triplet Q, N, H fails at 2.3201570000000005!\n",
      "triplet Q, Y, H fails at 4.556169000000001!\n",
      "triplet R, E, K fails at 1.4432070000000001!\n",
      "triplet R, E, Q fails at 1.7590240000000001!\n",
      "triplet R, N, K fails at 1.3932000000000002!\n",
      "triplet R, Y, H fails at 2.1121609999999995!\n",
      "triplet S, D, N fails at 2.768083!\n",
      "triplet S, H, N fails at 2.451435!\n",
      "triplet S, M, T fails at 1.673406!\n",
      "triplet S, V, A fails at 2.449501!\n",
      "triplet S, V, C fails at 1.8609220000000004!\n",
      "triplet S, V, T fails at 2.0897889999999997!\n",
      "triplet T, A, S fails at 2.587681000000001!\n",
      "triplet T, C, S fails at 1.6409979999999997!\n",
      "triplet T, D, N fails at 1.5748189999999997!\n",
      "triplet T, G, S fails at 1.6101540000000005!\n",
      "triplet T, I, V fails at 1.1544189999999999!\n",
      "triplet T, L, M fails at 1.7174300000000002!\n",
      "triplet T, N, S fails at 2.0076790000000004!\n",
      "triplet V, L, I fails at 2.442322!\n",
      "triplet V, M, I fails at 2.3748889999999996!\n",
      "triplet V, S, A fails at 2.4495009999999997!\n",
      "triplet V, S, C fails at 1.8609220000000004!\n",
      "triplet V, S, T fails at 2.0897889999999997!\n",
      "triplet Y, L, F fails at 2.293043999999999!\n",
      "triplet Y, M, F fails at 1.3175469999999994!\n",
      "triplet Y, N, H fails at 3.897213!\n",
      "triplet Y, Q, H fails at 4.556169!\n",
      "triplet Y, R, H fails at 2.1121609999999995!\n",
      "80 of 6156 triplets failed!\n"
     ]
    }
   ],
   "source": [
    "check_triangle(ap,LG_full)"
   ]
  },
  {
   "cell_type": "code",
   "execution_count": 160,
   "metadata": {
    "collapsed": true
   },
   "outputs": [
    {
     "name": "stdout",
     "output_type": "stream",
     "text": [
      "triplet A, N, G fails at 1.1608270000000003!\n",
      "triplet A, N, S fails at 1.9864430000000004!\n",
      "triplet A, T, S fails at 2.5876810000000003!\n",
      "triplet C, T, S fails at 1.6409980000000002!\n",
      "triplet D, H, N fails at 3.5821240000000003!\n",
      "triplet D, K, E fails at 1.5242180000000003!\n",
      "triplet D, K, N fails at 1.8621189999999999!\n",
      "triplet D, Q, E fails at 3.6052049999999998!\n",
      "triplet D, Q, N fails at 1.1723659999999998!\n",
      "triplet D, S, N fails at 2.768083!\n",
      "triplet D, T, N fails at 1.5748189999999997!\n",
      "triplet E, H, Q fails at 3.7047100000000004!\n",
      "triplet E, N, D fails at 4.534437!\n",
      "triplet E, R, K fails at 1.4432070000000001!\n",
      "triplet E, R, Q fails at 1.7590240000000001!\n",
      "triplet G, T, S fails at 1.610154!\n",
      "triplet H, D, N fails at 3.5821239999999994!\n",
      "triplet H, E, Q fails at 3.7047100000000004!\n",
      "triplet H, K, Q fails at 2.53703!\n",
      "triplet H, K, R fails at 1.7293370000000001!\n",
      "triplet H, S, N fails at 2.451435!\n",
      "triplet K, D, E fails at 1.5242180000000003!\n",
      "triplet K, D, N fails at 1.8621189999999999!\n",
      "triplet K, H, Q fails at 2.53703!\n",
      "triplet K, H, R fails at 1.7293370000000001!\n",
      "triplet N, A, G fails at 1.1608270000000003!\n",
      "triplet N, A, S fails at 1.9864430000000004!\n",
      "triplet N, E, D fails at 4.5344370000000005!\n",
      "triplet N, Q, H fails at 2.3201570000000005!\n",
      "triplet N, R, K fails at 1.3932000000000002!\n",
      "triplet N, T, S fails at 2.0076790000000004!\n",
      "triplet Q, D, E fails at 3.6052049999999998!\n",
      "triplet Q, D, N fails at 1.1723659999999998!\n",
      "triplet Q, N, H fails at 2.3201570000000005!\n",
      "triplet R, E, K fails at 1.4432070000000001!\n",
      "triplet R, E, Q fails at 1.7590240000000001!\n",
      "triplet R, N, K fails at 1.3932000000000002!\n",
      "triplet S, D, N fails at 2.768083!\n",
      "triplet S, H, N fails at 2.451435!\n",
      "triplet T, A, S fails at 2.587681000000001!\n",
      "triplet T, C, S fails at 1.6409979999999997!\n",
      "triplet T, D, N fails at 1.5748189999999997!\n",
      "triplet T, G, S fails at 1.6101540000000005!\n",
      "triplet T, N, S fails at 2.0076790000000004!\n",
      "44 of 1872 triplets failed!\n"
     ]
    }
   ],
   "source": [
    "check_triangle(hy,LG_full)"
   ]
  },
  {
   "cell_type": "code",
   "execution_count": 149,
   "metadata": {},
   "outputs": [
    {
     "name": "stdout",
     "output_type": "stream",
     "text": [
      "0 of 7220 triplets failed!\n"
     ]
    }
   ],
   "source": [
    "check_triangle(AAs,B50)"
   ]
  },
  {
   "cell_type": "code",
   "execution_count": 122,
   "metadata": {},
   "outputs": [
    {
     "name": "stdout",
     "output_type": "stream",
     "text": [
      "0 of 1872 triplets failed!\n"
     ]
    }
   ],
   "source": [
    "check_triangle(hy,B50)"
   ]
  }
 ],
 "metadata": {
  "kernelspec": {
   "display_name": "Python 3",
   "language": "python",
   "name": "python3"
  },
  "language_info": {
   "codemirror_mode": {
    "name": "ipython",
    "version": 3
   },
   "file_extension": ".py",
   "mimetype": "text/x-python",
   "name": "python",
   "nbconvert_exporter": "python",
   "pygments_lexer": "ipython3",
   "version": "3.8.10"
  }
 },
 "nbformat": 4,
 "nbformat_minor": 4
}
